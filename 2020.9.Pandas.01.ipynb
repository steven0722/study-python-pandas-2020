{
  "cells": [
    {
      "cell_type": "markdown",
      "source": [
        "#### 这是我的第一个python程序\n",
        "> 第一步：读表"
      ],
      "metadata": {}
    },
    {
      "cell_type": "code",
      "source": [
        "import pandas as pd\n",
        "df = pd.read_excel('2020.7月新媒体传播计划与互联网营销计划(标进度)V3.xlsx'）\n",
        "df"
      ],
      "outputs": [],
      "execution_count": null,
      "metadata": {}
    },
    {
      "cell_type": "code",
      "source": [
        "df.columns"
      ],
      "outputs": [
        {
          "output_type": "execute_result",
          "execution_count": 18,
          "data": {
            "text/plain": "Index(['新媒体运营：“平和味道”微信公众号', '推送时间', '发布顺序', '主题/内容', '形式', '传播对象', '目标阅读量',\n       '宣传点'],\n      dtype='object')"
          },
          "metadata": {}
        }
      ],
      "execution_count": 18,
      "metadata": {}
    },
    {
      "cell_type": "markdown",
      "source": [
        "> 第二步：对表格内容进行处理"
      ],
      "metadata": {}
    },
    {
      "cell_type": "code",
      "source": [
        "df.dropna(inplace = True, how='all')\n",
        "\n",
        "df.columns = ['a','b','c','e','f','g','h','j']\n",
        "\n",
        "df['f'] = df['f'].replace('推文设计','推文不处理') \n",
        "df"
      ],
      "outputs": [],
      "execution_count": null,
      "metadata": {}
    },
    {
      "cell_type": "markdown",
      "source": [
        "> 最后一步，写入新的Excel表格"
      ],
      "metadata": {}
    },
    {
      "cell_type": "code",
      "source": [
        "df.to_excel('test.xlsx')"
      ],
      "outputs": [],
      "execution_count": 4,
      "metadata": {}
    },
    {
      "cell_type": "code",
      "source": [
        "df2 = pd.DataFrame({\n",
        "    \"Name\": [\"Braund, Mr. Owen Harris\",\n",
        "             \"Allen, Mr. William Henry\",\n",
        "             \"Bonnell, Miss. Elizabeth\"],\n",
        "    \"Age\": [22, 35, 58],\n",
        "    \"Sex\": [\"male\", \"male\", \"female\"]}\n",
        ")\n",
        "df2"
      ],
      "outputs": [
        {
          "output_type": "execute_result",
          "execution_count": 20,
          "data": {
            "text/html": "<div>\n<style scoped>\n    .dataframe tbody tr th:only-of-type {\n        vertical-align: middle;\n    }\n\n    .dataframe tbody tr th {\n        vertical-align: top;\n    }\n\n    .dataframe thead th {\n        text-align: right;\n    }\n</style>\n<table border=\"1\" class=\"dataframe\">\n  <thead>\n    <tr style=\"text-align: right;\">\n      <th></th>\n      <th>Name</th>\n      <th>Age</th>\n      <th>Sex</th>\n    </tr>\n  </thead>\n  <tbody>\n    <tr>\n      <th>0</th>\n      <td>Braund, Mr. Owen Harris</td>\n      <td>22</td>\n      <td>male</td>\n    </tr>\n    <tr>\n      <th>1</th>\n      <td>Allen, Mr. William Henry</td>\n      <td>35</td>\n      <td>male</td>\n    </tr>\n    <tr>\n      <th>2</th>\n      <td>Bonnell, Miss. Elizabeth</td>\n      <td>58</td>\n      <td>female</td>\n    </tr>\n  </tbody>\n</table>\n</div>",
            "text/plain": "                       Name  Age     Sex\n0   Braund, Mr. Owen Harris   22    male\n1  Allen, Mr. William Henry   35    male\n2  Bonnell, Miss. Elizabeth   58  female"
          },
          "metadata": {}
        }
      ],
      "execution_count": 20,
      "metadata": {}
    },
    {
      "cell_type": "code",
      "source": [
        "df2.plot.scatter(x=\"Age\",\n",
        "                 y=\"Sex\",\n",
        "                alpha=0.5)"
      ],
      "outputs": [
        {
          "output_type": "execute_result",
          "execution_count": 26,
          "data": {
            "text/plain": "<AxesSubplot:xlabel='Age', ylabel='Sex'>"
          },
          "metadata": {}
        },
        {
          "output_type": "display_data",
          "data": {
            "image/png": "[encoded data removed]",
            "text/plain": "<Figure size 432x288 with 1 Axes>"
          },
          "metadata": {
            "needs_background": "light"
          }
        }
      ],
      "execution_count": 26,
      "metadata": {}
    },
    {
      "cell_type": "code",
      "source": [
        "df2[\"Age\"].plot()"
      ],
      "outputs": [
        {
          "output_type": "execute_result",
          "execution_count": 29,
          "data": {
            "text/plain": "<AxesSubplot:>"
          },
          "metadata": {}
        },
        {
          "output_type": "display_data",
          "data": {
            "image/png": "[encoded data removed]",
            "text/plain": "<Figure size 432x288 with 1 Axes>"
          },
          "metadata": {
            "needs_background": "light"
          }
        }
      ],
      "execution_count": 29,
      "metadata": {}
    },
    {
      "cell_type": "code",
      "source": [],
      "outputs": [],
      "execution_count": null,
      "metadata": {}
    }
  ],
  "metadata": {
    "kernelspec": {
      "display_name": "Python 3",
      "language": "python",
      "name": "python3"
    },
    "language_info": {
      "codemirror_mode": {
        "name": "ipython",
        "version": 3
      },
      "file_extension": ".py",
      "mimetype": "text/x-python",
      "name": "python",
      "nbconvert_exporter": "python",
      "pygments_lexer": "ipython3",
      "version": "3.8.3"
    },
    "nteract": {
      "version": "0.25.0"
    }
  },
  "nbformat": 4,
  "nbformat_minor": 4
}